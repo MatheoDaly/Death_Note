{
  "nbformat": 4,
  "nbformat_minor": 0,
  "metadata": {
    "kernelspec": {
      "display_name": "Python 3",
      "language": "python",
      "name": "python3"
    },
    "language_info": {
      "codemirror_mode": {
        "name": "ipython",
        "version": 3
      },
      "file_extension": ".py",
      "mimetype": "text/x-python",
      "name": "python",
      "nbconvert_exporter": "python",
      "pygments_lexer": "ipython3",
      "version": "3.7.3"
    },
    "colab": {
      "name": "Copie de Projet TER.ipynb",
      "provenance": [],
      "collapsed_sections": [],
      "include_colab_link": true
    }
  },
  "cells": [
    {
      "cell_type": "markdown",
      "metadata": {
        "id": "view-in-github",
        "colab_type": "text"
      },
      "source": [
        "<a href=\"https://colab.research.google.com/github/MatheoDaly/Death_Note/blob/master/Scrapping_And_Data_Cleaning.ipynb\" target=\"_parent\"><img src=\"https://colab.research.google.com/assets/colab-badge.svg\" alt=\"Open In Colab\"/></a>"
      ]
    },
    {
      "cell_type": "markdown",
      "metadata": {
        "id": "yhPXuYXLmCp4",
        "colab_type": "text"
      },
      "source": [
        "# 1) ALL THE IMPORTS"
      ]
    },
    {
      "cell_type": "code",
      "metadata": {
        "id": "tpKW8owUmBNz",
        "colab_type": "code",
        "colab": {}
      },
      "source": [
        "import pandas as pd\n",
        "from bs4 import BeautifulSoup\n",
        "import requests\n",
        "import re\n",
        "import numpy as np"
      ],
      "execution_count": 0,
      "outputs": []
    },
    {
      "cell_type": "markdown",
      "metadata": {
        "id": "Oce6vVJXmGF_",
        "colab_type": "text"
      },
      "source": [
        "# 2) GET THE WIKIPEDIA LINK AND THE NAME OF EVERY PERSONS"
      ]
    },
    {
      "cell_type": "code",
      "metadata": {
        "id": "DT0rZ6PKoUbm",
        "colab_type": "code",
        "outputId": "c375b1a6-c712-4c37-e3b5-609b859b52d7",
        "colab": {
          "base_uri": "https://localhost:8080/",
          "height": 34
        }
      },
      "source": [
        "#Supprimer les balises\n",
        "def cleanhtml(raw_html):\n",
        "  cleanr = re.compile('<.*?>')\n",
        "  cleantext = re.sub(cleanr,'', raw_html)\n",
        "  return cleantext\n",
        "\n",
        "def fillContent(url_path):\n",
        "  #Selectionne la page wikipédia et la met dans un objet content\n",
        "  page = requests.get(url_path)\n",
        "  contents = page.content\n",
        "\n",
        "  #Séléctionne toutes les divs de class \"mw-category-group\" (div contenant les suicidés par lettre) et le met dans un tableau\n",
        "  soup = BeautifulSoup(contents, 'html.parser')\n",
        "  mydivs = soup.findAll(\"div\", {\"class\": \"mw-category-group\"})\n",
        "\n",
        "  #.replace(\" \", \"_\")\n",
        "\n",
        "  #prend le nom de tous les suicidés dans le tableau liste\n",
        "  for i in mydivs:    \n",
        "    myTitle = i.findAll('li')\n",
        "    for i in myTitle:\n",
        "      if not ('class=\"CategoryTreeSection\"' in str(i)):\n",
        "        listeName.append(cleanhtml(str(i)).replace(\" \", \"_\"))\n",
        "        listeLink.append(\"https://fr.wikipedia.org/wiki/\"+cleanhtml(str(i)).replace(\" \", \"_\"))        "
      ],
      "execution_count": 0,
      "outputs": [
        {
          "output_type": "execute_result",
          "data": {
            "text/plain": [
              "'https://fr.wikipedia.org/wiki/Adolfo_Couve'"
            ]
          },
          "metadata": {
            "tags": []
          },
          "execution_count": 1
        }
      ]
    },
    {
      "cell_type": "code",
      "metadata": {
        "id": "xult7f3jmXl_",
        "colab_type": "code",
        "colab": {}
      },
      "source": [
        "listeName = [] #liste contenant les noms\n",
        "listeLink = [] #liste contenant les liens wikipédia\n",
        "#fillContent('https://fr.wikipedia.org/wiki/Catégorie:Artiste_suicidé')"
      ],
      "execution_count": 0,
      "outputs": []
    },
    {
      "cell_type": "markdown",
      "metadata": {
        "id": "zigrhbmTmd3L",
        "colab_type": "text"
      },
      "source": [
        "## All of the categories of suicide on wikipedia"
      ]
    },
    {
      "cell_type": "code",
      "metadata": {
        "id": "W7DRhSonmbkX",
        "colab_type": "code",
        "colab": {}
      },
      "source": [
        "listeDonnees=['https://fr.wikipedia.org/wiki/Catégorie:Artiste_suicidé',\n",
        "'https://fr.wikipedia.org/wiki/Catégorie:Acteur_suicidé',\n",
        "'https://fr.wikipedia.org/wiki/Catégorie:Actrice_suicidée',\n",
        "'https://fr.wikipedia.org/wiki/Catégorie:Musicien_suicidé',\n",
        "'https://fr.wikipedia.org/wiki/Catégorie:Musicienne_suicidée',\n",
        "'https://fr.wikipedia.org/wiki/Catégorie:Peintre_suicidé',\n",
        "'https://fr.wikipedia.org/wiki/Catégorie:Photographe_suicidé',\n",
        "'https://fr.wikipedia.org/wiki/Catégorie:Sculpteur_suicidé',\n",
        "'https://fr.wikipedia.org/wiki/Catégorie:Écrivain_suicidé',\n",
        "'https://fr.wikipedia.org/wiki/Catégorie:Journaliste_suicidé',\n",
        "'https://fr.wikipedia.org/wiki/Catégorie:Militaire_suicidé',\n",
        "'https://fr.wikipedia.org/wiki/Catégorie:Pilote_kamikaze',\n",
        "'https://fr.wikipedia.org/wiki/Catégorie:Personnalité_politique_suicidée',\n",
        "'https://fr.wikipedia.org/wiki/Catégorie:Nazi_suicidé',\n",
        "'https://fr.wikipedia.org/wiki/Catégorie:Sportif_suicidé',\n",
        "'https://fr.wikipedia.org/wiki/Catégorie:Sportive_suicidée',\n",
        "'https://fr.wikipedia.org/wiki/Catégorie:Suicide_en_prison',\n",
        "'https://fr.wikipedia.org/wiki/Liste_de_suicides_relatifs_à_la_cause_LGBT',\n",
        "'https://fr.wikipedia.org/wiki/Catégorie:Mort_par_suicide',\n",
        "'https://fr.wikipedia.org/wiki/Catégorie:Suicide_par_moyen_indéterminé',\n",
        "'https://fr.wikipedia.org/wiki/Catégorie:Suicide_par_moyen_indéterminé_en_France',\n",
        "'https://fr.wikipedia.org/wiki/Catégorie:Suicide_par_asphyxie',\n",
        "'https://fr.wikipedia.org/wiki/Catégorie:Suicide_par_arme_à_feu',\n",
        "'https://fr.wikipedia.org/wiki/Catégorie:Suicide_par_arme_à_feu_au_Japon',\n",
        "'https://fr.wikipedia.org/wiki/Catégorie:Suicide_par_arme_à_feu_en_Allemagne',\n",
        "'https://fr.wikipedia.org/wiki/Catégorie:Suicide_par_arme_à_feu_en_France',\n",
        "'https://fr.wikipedia.org/wiki/Catégorie:Suicide_par_arme_à_feu_aux_États-Unis',\n",
        "'https://fr.wikipedia.org/wiki/Catégorie:Suicide_par_arme_à_feu_au_Royaume-Uni',\n",
        "'https://fr.wikipedia.org/wiki/Catégorie:Suicide_par_arme_à_feu_dans_le_cœur',\n",
        "'https://fr.wikipedia.org/wiki/Catégorie:Suicide_par_le_feu',\n",
        "'https://fr.wikipedia.org/wiki/Catégorie:Mort_d%27une_grève_de_la_faim',\n",
        "'https://fr.wikipedia.org/wiki/Catégorie:Suicide_par_empoisonnement',\n",
        "'https://fr.wikipedia.org/wiki/Catégorie:Suicide_par_les_barbituriques',\n",
        "'https://fr.wikipedia.org/wiki/Catégorie:Suicide_par_le_cyanure',\n",
        "'https://fr.wikipedia.org/wiki/Catégorie:Suicide_par_noyade',\n",
        "'https://fr.wikipedia.org/wiki/Catégorie:Suicide_par_noyade_dans_la_Seine',\n",
        "'https://fr.wikipedia.org/wiki/Catégorie:Suicide_par_pendaison',\n",
        "'https://fr.wikipedia.org/wiki/Catégorie:Suicide_par_pendaison_au_Japon',\n",
        "'https://fr.wikipedia.org/wiki/Catégorie:Suicide_par_pendaison_au_Royaume-Uni',\n",
        "'https://fr.wikipedia.org/wiki/Catégorie:Suicide_par_pendaison_en_Allemagne',\n",
        "'https://fr.wikipedia.org/wiki/Catégorie:Suicide_par_pendaison_en_Corée_du_Sud',\n",
        "'https://fr.wikipedia.org/wiki/Catégorie:Suicide_par_pendaison_en_France',\n",
        "'https://fr.wikipedia.org/wiki/Catégorie:Suicide_par_pendaison_aux_États-Unis',\n",
        "'https://fr.wikipedia.org/wiki/Catégorie:Suicide_par_précipitation',\n",
        "'https://fr.wikipedia.org/wiki/Catégorie:Suicide_par_précipitation_aux_États-Unis',\n",
        "'https://fr.wikipedia.org/wiki/Catégorie:Suicide_par_précipitation_au_Japon',\n",
        "'https://fr.wikipedia.org/wiki/Catégorie:Suicide_par_précipitation_en_Italie',\n",
        "'https://fr.wikipedia.org/wiki/Catégorie:Suicide_par_précipitation_en_France',\n",
        "'https://fr.wikipedia.org/wiki/Catégorie:Suicide_par_précipitation_au_Canada',\n",
        "'https://fr.wikipedia.org/wiki/Catégorie:Suicide_par_précipitation_en_Allemagne',\n",
        "'https://fr.wikipedia.org/wiki/Catégorie:Suicide_par_précipitation_au_Royaume-Uni',\n",
        "'https://fr.wikipedia.org/wiki/Catégorie:Suicide_par_sectionnement',\n",
        "'https://fr.wikipedia.org/wiki/Catégorie:Suicide_par_sectionnement_en_France',\n",
        "'https://fr.wikipedia.org/wiki/Catégorie:Seppuku']\n",
        "#listeDonnees=['https://fr.wikipedia.org/wiki/Catégorie:Actrice_suicidée']\n",
        "for i in listeDonnees:\n",
        "  fillContent(i)\n",
        "  \n",
        "listeLink[0]"
      ],
      "execution_count": 0,
      "outputs": []
    },
    {
      "cell_type": "code",
      "metadata": {
        "id": "fXyzRg0GoUbs",
        "colab_type": "code",
        "colab": {}
      },
      "source": [
        "#scrapper toutes les pages dans notre listeLink\n",
        "listeContent= []\n",
        "for i in listeLink:\n",
        "    pageSuicide = requests.get(i)\n",
        "    pageSuicide.encoding = \"utf-8\"\n",
        "    data = pageSuicide.text\n",
        "\n",
        "    soup = BeautifulSoup(data, 'html.parser')\n",
        "    #listeContent.append(cleanhtml(str(soup)).replace(\"\\n\", \"\").replace(\":\", \"\"))\n",
        "    listeContent.append(str(soup).replace(\"\\n\", \"\").replace(\":\", \"\"))"
      ],
      "execution_count": 0,
      "outputs": []
    },
    {
      "cell_type": "markdown",
      "metadata": {
        "id": "BIQonhEHmsVb",
        "colab_type": "text"
      },
      "source": [
        "# 3) DATA CLEANING"
      ]
    },
    {
      "cell_type": "markdown",
      "metadata": {
        "id": "iyiVIeNAm5BF",
        "colab_type": "text"
      },
      "source": [
        "## Splitting the sentences into list of words"
      ]
    },
    {
      "cell_type": "code",
      "metadata": {
        "id": "QpJD6KVREhGR",
        "colab_type": "code",
        "colab": {}
      },
      "source": [
        "for i in range(len(listeContent)):\n",
        "  listeContent[i]=listeContent[i].split()"
      ],
      "execution_count": 0,
      "outputs": []
    },
    {
      "cell_type": "markdown",
      "metadata": {
        "id": "86UTz9U8nH2l",
        "colab_type": "text"
      },
      "source": [
        "## Selection of only the biography"
      ]
    },
    {
      "cell_type": "code",
      "metadata": {
        "id": "kT6Ukfj4MUrZ",
        "colab_type": "code",
        "colab": {}
      },
      "source": [
        "ct = 0\n",
        "\n",
        "cont = []\n",
        "for i in range(len(listeContent)):\n",
        "  flag = False\n",
        "  cont2 = []\n",
        "  for j in listeContent[i]:\n",
        "    if(j=='id=\"Biographie\">Biographie</span><span'):\n",
        "      flag = True\n",
        "    if(flag == True):\n",
        "      cont2.append(j)\n",
        "      #print(cont2)\n",
        "      if('<h2' in j):\n",
        "        flag = False\n",
        "  cont.append(cont2)\n",
        "# len(listeContent)"
      ],
      "execution_count": 0,
      "outputs": []
    },
    {
      "cell_type": "code",
      "metadata": {
        "id": "NOAfpnQVTa0i",
        "colab_type": "code",
        "colab": {}
      },
      "source": [
        "listeContent = cont"
      ],
      "execution_count": 0,
      "outputs": []
    },
    {
      "cell_type": "code",
      "metadata": {
        "id": "b4jd-YhxoUbv",
        "colab_type": "code",
        "outputId": "6f36fee6-1e5a-4529-f2ed-9cd2e42d0884",
        "colab": {
          "base_uri": "https://localhost:8080/",
          "height": 151
        }
      },
      "source": [
        "  \n",
        "# Calling DataFrame constructor after zipping \n",
        "# both lists, with columns specified \n",
        "df = pd.DataFrame(list(zip(listeName, listeLink, listeContent)), columns =['Name', 'Link', 'Content']) \n",
        "#df = df.drop_duplicates([\"Name\"]) #supprimer les doublons\n",
        "\n",
        "df.info()"
      ],
      "execution_count": 0,
      "outputs": [
        {
          "output_type": "stream",
          "text": [
            "<class 'pandas.core.frame.DataFrame'>\n",
            "RangeIndex: 3184 entries, 0 to 3183\n",
            "Data columns (total 3 columns):\n",
            "Name       3184 non-null object\n",
            "Link       3184 non-null object\n",
            "Content    3184 non-null object\n",
            "dtypes: object(3)\n",
            "memory usage: 74.8+ KB\n"
          ],
          "name": "stdout"
        }
      ]
    },
    {
      "cell_type": "code",
      "metadata": {
        "id": "nLrjFBcdTshd",
        "colab_type": "code",
        "colab": {}
      },
      "source": [
        "for i in range(len(df['Content'])):\n",
        "  #print(i+1)\n",
        "  df['Content'][i] = \" \".join(df['Content'][i])\n",
        "  df['Content'][i] = cleanhtml(df['Content'][i])\n",
        "  df['Content'][i] = df['Content'][i].split()"
      ],
      "execution_count": 0,
      "outputs": []
    },
    {
      "cell_type": "code",
      "metadata": {
        "id": "XcIjw0Y3aVsM",
        "colab_type": "code",
        "outputId": "790aaf9a-6025-42ae-9f55-f7f0ec542ff2",
        "colab": {
          "base_uri": "https://localhost:8080/",
          "height": 195
        }
      },
      "source": [
        "df = df.drop_duplicates([\"Name\"]) #supprimer les doublons\n",
        "df.head()"
      ],
      "execution_count": 0,
      "outputs": [
        {
          "output_type": "execute_result",
          "data": {
            "text/html": [
              "<div>\n",
              "<style scoped>\n",
              "    .dataframe tbody tr th:only-of-type {\n",
              "        vertical-align: middle;\n",
              "    }\n",
              "\n",
              "    .dataframe tbody tr th {\n",
              "        vertical-align: top;\n",
              "    }\n",
              "\n",
              "    .dataframe thead th {\n",
              "        text-align: right;\n",
              "    }\n",
              "</style>\n",
              "<table border=\"1\" class=\"dataframe\">\n",
              "  <thead>\n",
              "    <tr style=\"text-align: right;\">\n",
              "      <th></th>\n",
              "      <th>Name</th>\n",
              "      <th>Link</th>\n",
              "      <th>Content</th>\n",
              "    </tr>\n",
              "  </thead>\n",
              "  <tbody>\n",
              "    <tr>\n",
              "      <th>0</th>\n",
              "      <td>Adolfo_Couve</td>\n",
              "      <td>https://fr.wikipedia.org/wiki/Adolfo_Couve</td>\n",
              "      <td>[id=\"Biographie\"&gt;Biographie[modifier, |, modif...</td>\n",
              "    </tr>\n",
              "    <tr>\n",
              "      <th>1</th>\n",
              "      <td>Boaz_Arad</td>\n",
              "      <td>https://fr.wikipedia.org/wiki/Boaz_Arad</td>\n",
              "      <td>[id=\"Biographie\"&gt;Biographie[modifier, |, modif...</td>\n",
              "    </tr>\n",
              "    <tr>\n",
              "      <th>2</th>\n",
              "      <td>Ralph_Barton</td>\n",
              "      <td>https://fr.wikipedia.org/wiki/Ralph_Barton</td>\n",
              "      <td>[id=\"Biographie\"&gt;Biographie[modifier, |, modif...</td>\n",
              "    </tr>\n",
              "    <tr>\n",
              "      <th>3</th>\n",
              "      <td>Mark_Campos</td>\n",
              "      <td>https://fr.wikipedia.org/wiki/Mark_Campos</td>\n",
              "      <td>[id=\"Biographie\"&gt;Biographie[modifier, |, modif...</td>\n",
              "    </tr>\n",
              "    <tr>\n",
              "      <th>4</th>\n",
              "      <td>Michel_Caron_(artiste)</td>\n",
              "      <td>https://fr.wikipedia.org/wiki/Michel_Caron_(ar...</td>\n",
              "      <td>[id=\"Biographie\"&gt;Biographie[modifier, |, modif...</td>\n",
              "    </tr>\n",
              "  </tbody>\n",
              "</table>\n",
              "</div>"
            ],
            "text/plain": [
              "                     Name  ...                                            Content\n",
              "0            Adolfo_Couve  ...  [id=\"Biographie\">Biographie[modifier, |, modif...\n",
              "1               Boaz_Arad  ...  [id=\"Biographie\">Biographie[modifier, |, modif...\n",
              "2            Ralph_Barton  ...  [id=\"Biographie\">Biographie[modifier, |, modif...\n",
              "3             Mark_Campos  ...  [id=\"Biographie\">Biographie[modifier, |, modif...\n",
              "4  Michel_Caron_(artiste)  ...  [id=\"Biographie\">Biographie[modifier, |, modif...\n",
              "\n",
              "[5 rows x 3 columns]"
            ]
          },
          "metadata": {
            "tags": []
          },
          "execution_count": 8
        }
      ]
    },
    {
      "cell_type": "markdown",
      "metadata": {
        "id": "dvyg9rvRndK1",
        "colab_type": "text"
      },
      "source": [
        "## Saving the dataframe into a .csv file"
      ]
    },
    {
      "cell_type": "code",
      "metadata": {
        "id": "i0IapcsUUu3G",
        "colab_type": "code",
        "colab": {}
      },
      "source": [
        "from google.colab import files\n",
        "df.to_csv('filename.csv', sep=';', encoding='utf-8-sig', index=False)\n",
        "files.download('filename.csv')"
      ],
      "execution_count": 0,
      "outputs": []
    },
    {
      "cell_type": "markdown",
      "metadata": {
        "id": "gFLWTe_unh7v",
        "colab_type": "text"
      },
      "source": [
        "# 4) Test of data visualisation"
      ]
    },
    {
      "cell_type": "code",
      "metadata": {
        "id": "M8foq1OPoUb4",
        "colab_type": "code",
        "colab": {}
      },
      "source": [
        "#on récupère chaque mot de la page\n",
        "\n",
        "key=[\"pendaison\",\"étrangl\",\"strangul\",\"suspend\",\"tir \",\"balle\",\"arme\", \"suffocation\",\"suffoque\",\"asphyxie\",\"étouffement\",\"étouff\",\"étrangl\", \"immole\",\"surdose\",\"tire\",\"défenestration\",\"défenestr\",\"overdose\",\"barbituriques\"]\n",
        "\n",
        "\n",
        "p = 0\n",
        "b = 0\n",
        "i = 0\n",
        "a = 0\n",
        "d = 0\n",
        "o = 0\n",
        "hi = False\n",
        "df[\"mort\"] =np.nan\n",
        "i = 0\n",
        "for dfC in df[\"Content\"]:\n",
        "  for li in dfC.split():\n",
        "    for k in key:\n",
        "      if k in li:\n",
        "        #print(dfC.split()[0], dfC.split()[1], \" -> \", k)\n",
        "        hi=True\n",
        "        if k in [\"pendaison\",\"étrangl\",\"strangul\",\"suffocation\",\"étouffement\",\"étouff\"]:\n",
        "          p+=1\n",
        "          df[\"mort\"][i] = \"pendaison\"\n",
        "        if k in [\"tir\",\"balle\",\"tire\",\"arme\"]:\n",
        "          b+=1\n",
        "          df[\"mort\"][i] = \"par_balle\"\n",
        "        if k == \"asphyxie\":\n",
        "          a+=1\n",
        "          df[\"mort\"][i] = \"asphyxie\"\n",
        "        if k == \"immole\":\n",
        "          i+=1\n",
        "          df[\"mort\"][i] = \"immolation\"\n",
        "        if k in [\"défenestration\",\"défenestr\"]:\n",
        "          d+=1\n",
        "          df[\"mort\"][i] = \"defenestration\"\n",
        "        if k in [\"overdose\",\"barbituriques\"]:\n",
        "          o+=1\n",
        "          df[\"mort\"][i] = \"medicament\"\n",
        "  i+=1\n",
        "\n",
        "#hi\n",
        " \n",
        "morts_df = pd.get_dummies(df['mort'])\n",
        "#df.drop('mort', axis=1, inplace=True)\n",
        "df = df.join(morts_df)\n",
        "df.head(15)\n",
        "\n",
        "df[0].split()\n"
      ],
      "execution_count": 0,
      "outputs": []
    },
    {
      "cell_type": "code",
      "metadata": {
        "id": "sR8ELMKXoUb8",
        "colab_type": "code",
        "colab": {}
      },
      "source": [
        "\n",
        "df2 = pd.DataFrame({'lab':df[\"mort\"].unique(), 'val':[sum(df[\"defenestration\"]), sum(df[\"medicament\"]), sum(df[\"par_balle\"]), sum(df[\"asphyxie\"]), 228, sum(df[\"pendaison\"]), sum(df[\"immolation\"])]})\n",
        "ax = df2.plot.bar(x='lab', y='val', rot=15, title=\"Mort par \")\n",
        "\n",
        "print(\"nan: \", len(df.index))\n",
        "print(\"asphyxie: \", sum(df[\"asphyxie\"]))\n",
        "print(\"par_balle: \", sum(df[\"par_balle\"]))\n",
        "print(\"pendaison: \", sum(df[\"pendaison\"]))\n",
        "print(\"immolation: \", sum(df[\"immolation\"]))\n",
        "print(\"defenestration: \", sum(df[\"defenestration\"]))\n",
        "print(\"medicament: \", sum(df[\"medicament\"]))"
      ],
      "execution_count": 0,
      "outputs": []
    },
    {
      "cell_type": "code",
      "metadata": {
        "id": "2n1Y6sDbzgue",
        "colab_type": "code",
        "colab": {}
      },
      "source": [
        "print(\"asphyxie: \", sum(df[\"asphyxie\"]))\n",
        "print(\"par_balle: \", sum(df[\"par_balle\"]))\n",
        "print(\"pendaison: \", sum(df[\"pendaison\"]))\n",
        "print(\"immolation: \", sum(df[\"immolation\"]))\n",
        "print(\"defenestration: \", sum(df[\"defenestration\"]))\n",
        "print(\"medicament: \", sum(df[\"medicament\"]))\n",
        "\n",
        "df['mort'].value_counts().plot(kind='bar')\n",
        "\n",
        "#df[\"mort\"].unique()"
      ],
      "execution_count": 0,
      "outputs": []
    }
  ]
}