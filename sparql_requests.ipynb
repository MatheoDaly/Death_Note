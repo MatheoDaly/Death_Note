{
  "nbformat": 4,
  "nbformat_minor": 0,
  "metadata": {
    "colab": {
      "name": "test_sparql.ipynb",
      "provenance": [],
      "include_colab_link": true
    },
    "kernelspec": {
      "name": "python3",
      "display_name": "Python 3"
    }
  },
  "cells": [
    {
      "cell_type": "markdown",
      "metadata": {
        "id": "view-in-github",
        "colab_type": "text"
      },
      "source": [
        "<a href=\"https://colab.research.google.com/github/MatheoDaly/Death_Note/blob/master/sparql_requests.ipynb\" target=\"_parent\"><img src=\"https://colab.research.google.com/assets/colab-badge.svg\" alt=\"Open In Colab\"/></a>"
      ]
    },
    {
      "cell_type": "code",
      "metadata": {
        "id": "oavw9DBj3SNB",
        "colab_type": "code",
        "colab": {}
      },
      "source": [
        "import pandas as pd\n",
        "#from SPARQLWrapper import SPARQLWrapper, JSON\n",
        "#import ipython_sparql\n",
        "from rdflib import Graph\n",
        "from SPARQLWrapper import SPARQLWrapper, JSON, XML, N3, RDF, CSV, TSV\n"
      ],
      "execution_count": 0,
      "outputs": []
    },
    {
      "cell_type": "code",
      "metadata": {
        "id": "QpDlJ8fe4EiD",
        "colab_type": "code",
        "outputId": "c93a769d-540e-4bc5-a3de-8b2d179b855a",
        "colab": {
          "base_uri": "https://localhost:8080/",
          "height": 343
        }
      },
      "source": [
        "!pip install git+https://github.com/RDFLib/sparqlwrapper"
      ],
      "execution_count": 0,
      "outputs": [
        {
          "output_type": "stream",
          "text": [
            "Collecting git+https://github.com/RDFLib/sparqlwrapper\n",
            "  Cloning https://github.com/RDFLib/sparqlwrapper to /tmp/pip-req-build-mmjoqbb4\n",
            "  Running command git clone -q https://github.com/RDFLib/sparqlwrapper /tmp/pip-req-build-mmjoqbb4\n",
            "Collecting rdflib>=4.0\n",
            "\u001b[?25l  Downloading https://files.pythonhosted.org/packages/3c/fe/630bacb652680f6d481b9febbb3e2c3869194a1a5fc3401a4a41195a2f8f/rdflib-4.2.2-py3-none-any.whl (344kB)\n",
            "\u001b[K     |████████████████████████████████| 348kB 3.5MB/s \n",
            "\u001b[?25hCollecting isodate\n",
            "\u001b[?25l  Downloading https://files.pythonhosted.org/packages/9b/9f/b36f7774ff5ea8e428fdcfc4bb332c39ee5b9362ddd3d40d9516a55221b2/isodate-0.6.0-py2.py3-none-any.whl (45kB)\n",
            "\u001b[K     |████████████████████████████████| 51kB 6.1MB/s \n",
            "\u001b[?25hRequirement already satisfied: pyparsing in /usr/local/lib/python3.6/dist-packages (from rdflib>=4.0->SPARQLWrapper==1.8.5.dev0) (2.4.5)\n",
            "Requirement already satisfied: six in /usr/local/lib/python3.6/dist-packages (from isodate->rdflib>=4.0->SPARQLWrapper==1.8.5.dev0) (1.12.0)\n",
            "Building wheels for collected packages: SPARQLWrapper\n",
            "  Building wheel for SPARQLWrapper (setup.py) ... \u001b[?25l\u001b[?25hdone\n",
            "  Created wheel for SPARQLWrapper: filename=SPARQLWrapper-1.8.5.dev0-cp36-none-any.whl size=29729 sha256=b5472d01aba845a722b6b4438a460e9e6147ef896f44dd18b8b073eb841f203d\n",
            "  Stored in directory: /tmp/pip-ephem-wheel-cache-oogjacl5/wheels/94/87/ff/bd3f8bccb74168f42b5ba997f9105e18a9cc2699ad9a5525a6\n",
            "Successfully built SPARQLWrapper\n",
            "Installing collected packages: isodate, rdflib, SPARQLWrapper\n",
            "Successfully installed SPARQLWrapper-1.8.5.dev0 isodate-0.6.0 rdflib-4.2.2\n"
          ],
          "name": "stdout"
        }
      ]
    },
    {
      "cell_type": "code",
      "metadata": {
        "id": "bkv00FLp3ZqX",
        "colab_type": "code",
        "outputId": "3454fe48-b592-412d-a166-9082a6fe499d",
        "colab": {
          "base_uri": "https://localhost:8080/",
          "height": 54
        }
      },
      "source": [
        "sparql = SPARQLWrapper(\"http://dbpedia.org/sparql\")\n",
        "sparql.setQuery(\"\"\"\n",
        "    PREFIX rdfs: <http://www.w3.org/2000/01/rdf-schema#>\n",
        "    SELECT ?label\n",
        "    WHERE { <http://dbpedia.org/resource/Kurt_Cobain> dbo:abstract ?label }\n",
        "\"\"\")\n",
        "sparql.setReturnFormat(JSON)\n",
        "results = sparql.query().convert()\n",
        "\n",
        "results\n",
        "\n",
        "results[\"results\"][\"bindings\"][4][\"label\"][\"value\"]\n",
        "#for result in results[\"results\"][\"bindings\"]:\n",
        "#    print(result[\"label\"][\"value\"])"
      ],
      "execution_count": 0,
      "outputs": [
        {
          "output_type": "execute_result",
          "data": {
            "text/plain": [
              "\"Kurt CobainFichier:Nirvana around 1992.jpg Kurt Cobain en 1992 Kurt Donald Cobain, né le 20 février 1967 à Aberdeen dans l'État de Washington et mort le 5 avril 1994 à Seattle, est un musicien américain. Chanteur et guitariste du groupe Nirvana, formé en 1987 avec Krist Novoselic, en deux ans, le groupe devient un pilier de la scène grunge de Seattle, alors en pleine émergence, notamment avec la sortie de leur single Smells Like Teen Spirit, en 1991. Nirvana marqua le début d'un changement radical de la musique populaire des années 1990, passant du glam metal et de la pop vers le punk rock et le grunge. Durant les dernières années de sa vie, Kurt Cobain lutte contre sa dépendance à l'héroïne et subit en compagnie de son épouse Courtney Love (avec qui il aura une fille, Frances Bean Cobain) une importante pression médiatique. Il est retrouvé mort depuis 3 jours dans sa maison à Seattle le 8 avril 1994, officiellement suicidé d'une balle dans la tête. Néanmoins, quelques théories ont tenté de démontrer qu'il pourrait peut-être également s'agir d'un homicide. Le 13 novembre 2015, son premier album solo à titre posthume, Montage of Heck: The Home Recordings, est publié, composé d'enregistrements restés inconnus après son décès.\""
            ]
          },
          "metadata": {
            "tags": []
          },
          "execution_count": 56
        }
      ]
    }
  ]
}