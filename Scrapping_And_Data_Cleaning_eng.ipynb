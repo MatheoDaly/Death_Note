{
  "nbformat": 4,
  "nbformat_minor": 0,
  "metadata": {
    "kernelspec": {
      "display_name": "Python 3",
      "language": "python",
      "name": "python3"
    },
    "language_info": {
      "codemirror_mode": {
        "name": "ipython",
        "version": 3
      },
      "file_extension": ".py",
      "mimetype": "text/x-python",
      "name": "python",
      "nbconvert_exporter": "python",
      "pygments_lexer": "ipython3",
      "version": "3.7.3"
    },
    "colab": {
      "name": "Copie de Projet TER.ipynb",
      "provenance": [],
      "collapsed_sections": [],
      "include_colab_link": true
    }
  },
  "cells": [
    {
      "cell_type": "markdown",
      "metadata": {
        "id": "view-in-github",
        "colab_type": "text"
      },
      "source": [
        "<a href=\"https://colab.research.google.com/github/MatheoDaly/Death_Note/blob/master/Scrapping_And_Data_Cleaning_eng.ipynb\" target=\"_parent\"><img src=\"https://colab.research.google.com/assets/colab-badge.svg\" alt=\"Open In Colab\"/></a>"
      ]
    },
    {
      "cell_type": "markdown",
      "metadata": {
        "id": "yhPXuYXLmCp4",
        "colab_type": "text"
      },
      "source": [
        "# 1) ALL THE IMPORTS"
      ]
    },
    {
      "cell_type": "code",
      "metadata": {
        "id": "tpKW8owUmBNz",
        "colab_type": "code",
        "colab": {}
      },
      "source": [
        "import pandas as pd\n",
        "from bs4 import BeautifulSoup\n",
        "import requests\n",
        "import re\n",
        "import numpy as np"
      ],
      "execution_count": 0,
      "outputs": []
    },
    {
      "cell_type": "markdown",
      "metadata": {
        "id": "Oce6vVJXmGF_",
        "colab_type": "text"
      },
      "source": [
        "# 2) GET THE WIKIPEDIA LINK AND THE NAME OF EVERY PERSONS"
      ]
    },
    {
      "cell_type": "code",
      "metadata": {
        "id": "DT0rZ6PKoUbm",
        "colab_type": "code",
        "colab": {}
      },
      "source": [
        "#Supprimer les balises\n",
        "def cleanhtml(raw_html):\n",
        "  cleanr = re.compile('<.*?>')\n",
        "  cleantext = re.sub(cleanr,'', raw_html)\n",
        "  return cleantext\n",
        "\n",
        "def fillContent(url_path):\n",
        "  #Selectionne la page wikipédia et la met dans un objet content\n",
        "  page = requests.get(url_path)\n",
        "  contents = page.content\n",
        "\n",
        "  #Séléctionne toutes les divs de class \"mw-category-group\" (div contenant les suicidés par lettre) et le met dans un tableau\n",
        "  soup = BeautifulSoup(contents, 'html.parser')\n",
        "  mydivs = soup.findAll(\"div\", {\"class\": \"mw-category-group\"})\n",
        "\n",
        "  #.replace(\" \", \"_\")\n",
        "\n",
        "  #prend le nom de tous les suicidés dans le tableau liste\n",
        "  for i in mydivs:    \n",
        "    myTitle = i.findAll('li')\n",
        "    for i in myTitle:\n",
        "      if not ('class=\"CategoryTreeSection\"' in str(i)):\n",
        "        listeName.append(cleanhtml(str(i)).replace(\" \", \"_\"))\n",
        "        listeLink.append(\"https://en.wikipedia.org/wiki/\"+cleanhtml(str(i)).replace(\" \", \"_\"))        "
      ],
      "execution_count": 0,
      "outputs": []
    },
    {
      "cell_type": "code",
      "metadata": {
        "id": "xult7f3jmXl_",
        "colab_type": "code",
        "colab": {}
      },
      "source": [
        "listeName = [] #liste contenant les noms\n",
        "listeLink = [] #liste contenant les liens wikipédia\n",
        "#fillContent('https://fr.wikipedia.org/wiki/Catégorie:Artiste_suicidé')"
      ],
      "execution_count": 0,
      "outputs": []
    },
    {
      "cell_type": "markdown",
      "metadata": {
        "id": "zigrhbmTmd3L",
        "colab_type": "text"
      },
      "source": [
        "## All of the categories of suicide on wikipedia"
      ]
    },
    {
      "cell_type": "code",
      "metadata": {
        "id": "W7DRhSonmbkX",
        "colab_type": "code",
        "colab": {
          "base_uri": "https://localhost:8080/",
          "height": 34
        },
        "outputId": "f9e816f1-292e-4d31-9f84-1dc9ffd966fe"
      },
      "source": [
        "listeDonnees=['https://en.wikipedia.org/w/index.php?title=Category:Male_suicides&pageuntil=Bystron%2C+David%0ADavid+Bystroň#mw-pages',\n",
        "              'https://en.wikipedia.org/w/index.php?title=Category:Male_suicides&pagefrom=Bystron%2C+David%0ADavid+Bystroň#mw-pages',\n",
        "              'https://en.wikipedia.org/w/index.php?title=Category:Male_suicides&pagefrom=Egan%2C+Richard%0ARichard+Egan+%28businessman%29#mw-pages',\n",
        "              'https://en.wikipedia.org/w/index.php?title=Category:Male_suicides&pagefrom=Heggen%2C+Thomas%0AThomas+Heggen#mw-pages',\n",
        "              'https://en.wikipedia.org/w/index.php?title=Category:Male_suicides&pagefrom=Lewis%2C+Lester%0ALester+Lewis#mw-pages',\n",
        "              'https://en.wikipedia.org/w/index.php?title=Category:Male_suicides&pagefrom=Patterson%2C+Jeremy%0AJeremy+Patterson#mw-pages',\n",
        "              'https://en.wikipedia.org/w/index.php?title=Category:Male_suicides&pagefrom=Sen+no%2C+Rikyu%0ASen+no+Rikyū#mw-pages',\n",
        "              'https://en.wikipedia.org/w/index.php?title=Category:Male_suicides&pagefrom=Weidig%2C+Friedrich+Ludwig%0AFriedrich+Ludwig+Weidig#mw-pages',\n",
        "              'https://en.wikipedia.org/wiki/Category:Female_suicides',\n",
        "              'https://en.wikipedia.org/w/index.php?title=Category:Female_suicides&pagefrom=Mandel%2C+Miriam%0AMiriam+Mandel#mw-pages',\n",
        "              ]\n",
        "#listeDonnees=['https://fr.wikipedia.org/wiki/Catégorie:Actrice_suicidée']\n",
        "for i in listeDonnees:\n",
        "  fillContent(i)\n",
        "  \n",
        "len(listeLink)"
      ],
      "execution_count": 9,
      "outputs": [
        {
          "output_type": "execute_result",
          "data": {
            "text/plain": [
              "1875"
            ]
          },
          "metadata": {
            "tags": []
          },
          "execution_count": 9
        }
      ]
    },
    {
      "cell_type": "code",
      "metadata": {
        "id": "fXyzRg0GoUbs",
        "colab_type": "code",
        "colab": {}
      },
      "source": [
        "#scrapper toutes les pages dans notre listeLink\n",
        "listeContent= []\n",
        "for i in listeLink:\n",
        "    pageSuicide = requests.get(i)\n",
        "    pageSuicide.encoding = \"utf-8\"\n",
        "    data = pageSuicide.text\n",
        "\n",
        "    soup = BeautifulSoup(data, 'html.parser')\n",
        "    #listeContent.append(cleanhtml(str(soup)).replace(\"\\n\", \"\").replace(\":\", \"\"))\n",
        "    listeContent.append(str(soup).replace(\"\\n\", \"\").replace(\":\", \"\"))"
      ],
      "execution_count": 0,
      "outputs": []
    },
    {
      "cell_type": "markdown",
      "metadata": {
        "id": "BIQonhEHmsVb",
        "colab_type": "text"
      },
      "source": [
        "# 3) DATA CLEANING"
      ]
    },
    {
      "cell_type": "markdown",
      "metadata": {
        "id": "iyiVIeNAm5BF",
        "colab_type": "text"
      },
      "source": [
        "## Splitting the sentences into list of words"
      ]
    },
    {
      "cell_type": "code",
      "metadata": {
        "id": "QpJD6KVREhGR",
        "colab_type": "code",
        "colab": {}
      },
      "source": [
        "for i in range(len(listeContent)):\n",
        "  listeContent[i]=listeContent[i].split()"
      ],
      "execution_count": 0,
      "outputs": []
    },
    {
      "cell_type": "markdown",
      "metadata": {
        "id": "86UTz9U8nH2l",
        "colab_type": "text"
      },
      "source": [
        "## Selection of only the biography"
      ]
    },
    {
      "cell_type": "code",
      "metadata": {
        "id": "kT6Ukfj4MUrZ",
        "colab_type": "code",
        "colab": {}
      },
      "source": [
        "ct = 0\n",
        "\n",
        "cont = []\n",
        "for i in range(len(listeContent)):\n",
        "  flag = False\n",
        "  cont2 = []\n",
        "  for j in listeContent[i]:\n",
        "    if(j=='id=\"Biographie\">Biographie</span><span'):\n",
        "      flag = True\n",
        "    if(flag == True):\n",
        "      cont2.append(j)\n",
        "      #print(cont2)\n",
        "      if('<h2' in j):\n",
        "        flag = False\n",
        "  cont.append(cont2)\n",
        "# len(listeContent)"
      ],
      "execution_count": 0,
      "outputs": []
    },
    {
      "cell_type": "code",
      "metadata": {
        "id": "NOAfpnQVTa0i",
        "colab_type": "code",
        "colab": {}
      },
      "source": [
        "listeContent = cont"
      ],
      "execution_count": 0,
      "outputs": []
    },
    {
      "cell_type": "markdown",
      "metadata": {
        "id": "ukNIdcm2uhWG",
        "colab_type": "text"
      },
      "source": [
        "## Dataframe with biography"
      ]
    },
    {
      "cell_type": "code",
      "metadata": {
        "id": "b4jd-YhxoUbv",
        "colab_type": "code",
        "outputId": "6f36fee6-1e5a-4529-f2ed-9cd2e42d0884",
        "colab": {
          "base_uri": "https://localhost:8080/",
          "height": 151
        }
      },
      "source": [
        "  \n",
        "# Calling DataFrame constructor after zipping \n",
        "# both lists, with columns specified \n",
        "df = pd.DataFrame(list(zip(listeName, listeLink, listeContent)), columns =['Name', 'Link', 'Content']) \n",
        "#df = df.drop_duplicates([\"Name\"]) #supprimer les doublons\n",
        "\n",
        "df.info()"
      ],
      "execution_count": 0,
      "outputs": [
        {
          "output_type": "stream",
          "text": [
            "<class 'pandas.core.frame.DataFrame'>\n",
            "RangeIndex: 3184 entries, 0 to 3183\n",
            "Data columns (total 3 columns):\n",
            "Name       3184 non-null object\n",
            "Link       3184 non-null object\n",
            "Content    3184 non-null object\n",
            "dtypes: object(3)\n",
            "memory usage: 74.8+ KB\n"
          ],
          "name": "stdout"
        }
      ]
    },
    {
      "cell_type": "code",
      "metadata": {
        "id": "AxvV-V9WvDAP",
        "colab_type": "code",
        "colab": {}
      },
      "source": [
        "for i in range(len(df['Content'])):\n",
        "  #print(i+1)\n",
        "  df['Content'][i] = \" \".join(df['Content'][i])\n",
        "  df['Content'][i] = cleanhtml(df['Content'][i])\n",
        "  df['Content'][i] = df['Content'][i].split()"
      ],
      "execution_count": 0,
      "outputs": []
    },
    {
      "cell_type": "markdown",
      "metadata": {
        "id": "m8JM765Muktk",
        "colab_type": "text"
      },
      "source": [
        "## Dataframe with only names and links"
      ]
    },
    {
      "cell_type": "code",
      "metadata": {
        "id": "5PHTiUUXupRv",
        "colab_type": "code",
        "colab": {}
      },
      "source": [
        "df = pd.DataFrame(list(zip(listeName, listeLink)), columns =['Name', 'Link']) "
      ],
      "execution_count": 0,
      "outputs": []
    },
    {
      "cell_type": "code",
      "metadata": {
        "id": "XcIjw0Y3aVsM",
        "colab_type": "code",
        "outputId": "c8c378fc-5649-468d-f267-5bfb63f1b979",
        "colab": {
          "base_uri": "https://localhost:8080/",
          "height": 195
        }
      },
      "source": [
        "df = df.drop_duplicates([\"Name\"]) #supprimer les doublons\n",
        "df.head()"
      ],
      "execution_count": 11,
      "outputs": [
        {
          "output_type": "execute_result",
          "data": {
            "text/html": [
              "<div>\n",
              "<style scoped>\n",
              "    .dataframe tbody tr th:only-of-type {\n",
              "        vertical-align: middle;\n",
              "    }\n",
              "\n",
              "    .dataframe tbody tr th {\n",
              "        vertical-align: top;\n",
              "    }\n",
              "\n",
              "    .dataframe thead th {\n",
              "        text-align: right;\n",
              "    }\n",
              "</style>\n",
              "<table border=\"1\" class=\"dataframe\">\n",
              "  <thead>\n",
              "    <tr style=\"text-align: right;\">\n",
              "      <th></th>\n",
              "      <th>Name</th>\n",
              "      <th>Link</th>\n",
              "    </tr>\n",
              "  </thead>\n",
              "  <tbody>\n",
              "    <tr>\n",
              "      <th>0</th>\n",
              "      <td>Jack_Abbott_(author)</td>\n",
              "      <td>https://en.wikipedia.org/wiki/Jack_Abbott_(aut...</td>\n",
              "    </tr>\n",
              "    <tr>\n",
              "      <th>1</th>\n",
              "      <td>Abdülaziz</td>\n",
              "      <td>https://en.wikipedia.org/wiki/Abdülaziz</td>\n",
              "    </tr>\n",
              "    <tr>\n",
              "      <th>2</th>\n",
              "      <td>Abu_Nidal</td>\n",
              "      <td>https://en.wikipedia.org/wiki/Abu_Nidal</td>\n",
              "    </tr>\n",
              "    <tr>\n",
              "      <th>3</th>\n",
              "      <td>Chris_Acland</td>\n",
              "      <td>https://en.wikipedia.org/wiki/Chris_Acland</td>\n",
              "    </tr>\n",
              "    <tr>\n",
              "      <th>4</th>\n",
              "      <td>Fort_Acuña</td>\n",
              "      <td>https://en.wikipedia.org/wiki/Fort_Acuña</td>\n",
              "    </tr>\n",
              "  </tbody>\n",
              "</table>\n",
              "</div>"
            ],
            "text/plain": [
              "                   Name                                               Link\n",
              "0  Jack_Abbott_(author)  https://en.wikipedia.org/wiki/Jack_Abbott_(aut...\n",
              "1             Abdülaziz            https://en.wikipedia.org/wiki/Abdülaziz\n",
              "2             Abu_Nidal            https://en.wikipedia.org/wiki/Abu_Nidal\n",
              "3          Chris_Acland         https://en.wikipedia.org/wiki/Chris_Acland\n",
              "4            Fort_Acuña           https://en.wikipedia.org/wiki/Fort_Acuña"
            ]
          },
          "metadata": {
            "tags": []
          },
          "execution_count": 11
        }
      ]
    },
    {
      "cell_type": "markdown",
      "metadata": {
        "id": "dvyg9rvRndK1",
        "colab_type": "text"
      },
      "source": [
        "## Saving the dataframe into a .csv file"
      ]
    },
    {
      "cell_type": "code",
      "metadata": {
        "id": "i0IapcsUUu3G",
        "colab_type": "code",
        "colab": {}
      },
      "source": [
        "from google.colab import files\n",
        "df.to_csv('Suicides_wikipedia_scrapping.csv', sep=';', encoding='utf-8-sig', index=False)\n",
        "files.download('Suicides_wikipedia_scrapping.csv')"
      ],
      "execution_count": 0,
      "outputs": []
    },
    {
      "cell_type": "markdown",
      "metadata": {
        "id": "gFLWTe_unh7v",
        "colab_type": "text"
      },
      "source": [
        "# 4) Test of data visualisation"
      ]
    },
    {
      "cell_type": "code",
      "metadata": {
        "id": "M8foq1OPoUb4",
        "colab_type": "code",
        "colab": {}
      },
      "source": [
        "#on récupère chaque mot de la page\n",
        "\n",
        "key=[\"pendaison\",\"étrangl\",\"strangul\",\"suspend\",\"tir \",\"balle\",\"arme\", \"suffocation\",\"suffoque\",\"asphyxie\",\"étouffement\",\"étouff\",\"étrangl\", \"immole\",\"surdose\",\"tire\",\"défenestration\",\"défenestr\",\"overdose\",\"barbituriques\"]\n",
        "\n",
        "\n",
        "p = 0\n",
        "b = 0\n",
        "i = 0\n",
        "a = 0\n",
        "d = 0\n",
        "o = 0\n",
        "hi = False\n",
        "df[\"mort\"] =np.nan\n",
        "i = 0\n",
        "for dfC in df[\"Content\"]:\n",
        "  for li in dfC.split():\n",
        "    for k in key:\n",
        "      if k in li:\n",
        "        #print(dfC.split()[0], dfC.split()[1], \" -> \", k)\n",
        "        hi=True\n",
        "        if k in [\"pendaison\",\"étrangl\",\"strangul\",\"suffocation\",\"étouffement\",\"étouff\"]:\n",
        "          p+=1\n",
        "          df[\"mort\"][i] = \"pendaison\"\n",
        "        if k in [\"tir\",\"balle\",\"tire\",\"arme\"]:\n",
        "          b+=1\n",
        "          df[\"mort\"][i] = \"par_balle\"\n",
        "        if k == \"asphyxie\":\n",
        "          a+=1\n",
        "          df[\"mort\"][i] = \"asphyxie\"\n",
        "        if k == \"immole\":\n",
        "          i+=1\n",
        "          df[\"mort\"][i] = \"immolation\"\n",
        "        if k in [\"défenestration\",\"défenestr\"]:\n",
        "          d+=1\n",
        "          df[\"mort\"][i] = \"defenestration\"\n",
        "        if k in [\"overdose\",\"barbituriques\"]:\n",
        "          o+=1\n",
        "          df[\"mort\"][i] = \"medicament\"\n",
        "  i+=1\n",
        "\n",
        "#hi\n",
        " \n",
        "morts_df = pd.get_dummies(df['mort'])\n",
        "#df.drop('mort', axis=1, inplace=True)\n",
        "df = df.join(morts_df)\n",
        "df.head(15)\n",
        "\n",
        "df[0].split()\n"
      ],
      "execution_count": 0,
      "outputs": []
    },
    {
      "cell_type": "code",
      "metadata": {
        "id": "sR8ELMKXoUb8",
        "colab_type": "code",
        "colab": {}
      },
      "source": [
        "\n",
        "df2 = pd.DataFrame({'lab':df[\"mort\"].unique(), 'val':[sum(df[\"defenestration\"]), sum(df[\"medicament\"]), sum(df[\"par_balle\"]), sum(df[\"asphyxie\"]), 228, sum(df[\"pendaison\"]), sum(df[\"immolation\"])]})\n",
        "ax = df2.plot.bar(x='lab', y='val', rot=15, title=\"Mort par \")\n",
        "\n",
        "print(\"nan: \", len(df.index))\n",
        "print(\"asphyxie: \", sum(df[\"asphyxie\"]))\n",
        "print(\"par_balle: \", sum(df[\"par_balle\"]))\n",
        "print(\"pendaison: \", sum(df[\"pendaison\"]))\n",
        "print(\"immolation: \", sum(df[\"immolation\"]))\n",
        "print(\"defenestration: \", sum(df[\"defenestration\"]))\n",
        "print(\"medicament: \", sum(df[\"medicament\"]))"
      ],
      "execution_count": 0,
      "outputs": []
    },
    {
      "cell_type": "code",
      "metadata": {
        "id": "2n1Y6sDbzgue",
        "colab_type": "code",
        "colab": {}
      },
      "source": [
        "print(\"asphyxie: \", sum(df[\"asphyxie\"]))\n",
        "print(\"par_balle: \", sum(df[\"par_balle\"]))\n",
        "print(\"pendaison: \", sum(df[\"pendaison\"]))\n",
        "print(\"immolation: \", sum(df[\"immolation\"]))\n",
        "print(\"defenestration: \", sum(df[\"defenestration\"]))\n",
        "print(\"medicament: \", sum(df[\"medicament\"]))\n",
        "\n",
        "df['mort'].value_counts().plot(kind='bar')\n",
        "\n",
        "#df[\"mort\"].unique()"
      ],
      "execution_count": 0,
      "outputs": []
    }
  ]
}